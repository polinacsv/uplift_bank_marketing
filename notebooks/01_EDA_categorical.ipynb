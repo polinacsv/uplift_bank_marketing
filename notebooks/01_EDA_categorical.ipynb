{
 "cells": [
  {
   "cell_type": "markdown",
   "id": "59e60ec5",
   "metadata": {},
   "source": [
    "# Uplift Bank Marketing - Data Exploration"
   ]
  },
  {
   "cell_type": "markdown",
   "id": "b384b1c9",
   "metadata": {},
   "source": [
    "## Load data"
   ]
  },
  {
   "cell_type": "code",
   "execution_count": null,
   "id": "f7b1812d",
   "metadata": {},
   "outputs": [],
   "source": [
    "%matplotlib inline\n",
    "import os\n",
    "import pandas as pd\n",
    "from ucimlrepo import fetch_ucirepo\n",
    "import seaborn as sns\n",
    "import matplotlib.pyplot as plt\n",
    "\n",
    "# Set the correct data directory (absolute path)\n",
    "project_root = os.path.abspath(os.path.join(os.path.dirname(\"__file__\"), \"../src/uplift_bank_marketing/data\"))\n",
    "os.makedirs(project_root, exist_ok=True)\n",
    "\n",
    "X_path = os.path.join(project_root, \"X_bank_marketing.csv\")\n",
    "y_path = os.path.join(project_root, \"y_bank_marketing.csv\")\n",
    "\n",
    "# Check if data already exists\n",
    "if os.path.exists(X_path) and os.path.exists(y_path):\n",
    "    print(\"Loading data from saved files...\")\n",
    "    X = pd.read_csv(X_path)\n",
    "    y = pd.read_csv(y_path)\n",
    "    print(\"Data loaded successfully.\")\n",
    "else:\n",
    "    print(\"Downloading data from UCI Machine Learning Repository...\")\n",
    "    bank_marketing = fetch_ucirepo(id=222)\n",
    "    \n",
    "    # Save features and target\n",
    "    X = bank_marketing.data.features\n",
    "    y = bank_marketing.data.targets\n",
    "\n",
    "    X.to_csv(X_path, index=False)\n",
    "    y.to_csv(y_path, index=False)\n",
    "\n",
    "    print(\"Data downloaded and saved successfully.\")\n",
    "\n",
    "# Combine features and target for analysis\n",
    "df = X.copy()\n",
    "df['target'] = y\n",
    "df.head()\n"
   ]
  },
  {
   "cell_type": "markdown",
   "id": "42081005",
   "metadata": {},
   "source": [
    "## Quick Overview"
   ]
  },
  {
   "cell_type": "code",
   "execution_count": null,
   "id": "127acc0d",
   "metadata": {},
   "outputs": [],
   "source": [
    "# Display the first few rows\n",
    "df.head()"
   ]
  },
  {
   "cell_type": "code",
   "execution_count": null,
   "id": "4def6a30",
   "metadata": {},
   "outputs": [],
   "source": [
    "# Display the last few rows\n",
    "df.tail()"
   ]
  },
  {
   "cell_type": "code",
   "execution_count": null,
   "id": "02ed5b59",
   "metadata": {},
   "outputs": [],
   "source": [
    "# Basic information about the data\n",
    "df.info()"
   ]
  },
  {
   "cell_type": "code",
   "execution_count": null,
   "id": "526767cc",
   "metadata": {},
   "outputs": [],
   "source": [
    "# Basic statistics (numerical features)\n",
    "df.describe().T"
   ]
  },
  {
   "cell_type": "code",
   "execution_count": null,
   "id": "140eae7b",
   "metadata": {},
   "outputs": [],
   "source": [
    "# Displaying the count of missing values in each column\n",
    "missing_values = df.isnull().sum()\n",
    "print(missing_values[missing_values > 0])"
   ]
  },
  {
   "cell_type": "code",
   "execution_count": null,
   "id": "5434a582",
   "metadata": {},
   "outputs": [],
   "source": [
    "# Visualizing the pattern of missing data\n",
    "plt.figure(figsize=(12, 8))\n",
    "sns.heatmap(df.isnull(), cbar=False, cmap=\"viridis\")\n",
    "plt.title(\"Missing Data Pattern\")\n",
    "plt.show()\n",
    "\n",
    "# Calculating percentage of missing values in each column\n",
    "missing_percent = (df.isnull().sum() / len(df)) * 100\n",
    "missing_percent = missing_percent[missing_percent > 0].sort_values(ascending=False)\n",
    "\n",
    "# Displaying the percentages\n",
    "print(\"Missing Values (%):\")\n",
    "print(missing_percent)\n",
    "\n",
    "# Visualizing missing values as a percentage\n",
    "plt.figure(figsize=(10, 6))\n",
    "sns.barplot(x=missing_percent.values, y=missing_percent.index, palette=\"magma\")\n",
    "plt.title(\"Percentage of Missing Values by Feature\")\n",
    "plt.xlabel(\"Percentage of Missing Values\")\n",
    "plt.show()"
   ]
  },
  {
   "cell_type": "markdown",
   "id": "bc6ee5d8",
   "metadata": {},
   "source": [
    "The visual heatmap of missing values shows that the missing data is not concentrated in specific rows, suggesting that it is scattered throughout the dataset. However, the high concentration of missing values in poutcome is visually striking, reinforcing the need to carefully consider whether this column is useful."
   ]
  },
  {
   "cell_type": "code",
   "execution_count": null,
   "id": "3ada65fe",
   "metadata": {},
   "outputs": [],
   "source": [
    "# Columns with missing values\n",
    "missing_cols = df.columns[df.isnull().sum() > 0]\n",
    "\n",
    "# Displaying bar charts for categorical columns with missing values\n",
    "for col in missing_cols:\n",
    "    if df[col].dtype == 'object':  # Only for categorical variables\n",
    "        plt.figure(figsize=(10, 5))\n",
    "        sns.countplot(data=df, y=col, order=df[col].value_counts(dropna=False).index, palette=\"magma\")\n",
    "        plt.title(f\"Distribution of {col} (Including Missing Values)\")\n",
    "        plt.show()\n"
   ]
  },
  {
   "cell_type": "markdown",
   "id": "c2284972",
   "metadata": {},
   "source": [
    "## Target Variable Distribution\n"
   ]
  },
  {
   "cell_type": "code",
   "execution_count": null,
   "id": "1c87fa4a",
   "metadata": {},
   "outputs": [],
   "source": [
    "# Plotting distribution of target variable\n",
    "sns.countplot(data=df, x='target', palette=\"magma\")\n",
    "plt.title('Target Variable Distribution')\n",
    "plt.show()"
   ]
  },
  {
   "cell_type": "markdown",
   "id": "7b2d6ab2",
   "metadata": {},
   "source": [
    "## Visualize Features"
   ]
  },
  {
   "cell_type": "code",
   "execution_count": null,
   "id": "2950e871",
   "metadata": {},
   "outputs": [],
   "source": [
    "# Identifying all categorical variables\n",
    "categorical_columns = df.select_dtypes(include=['object']).columns\n",
    "\n",
    "# Visualizing all categorical variables\n",
    "for col in categorical_columns:\n",
    "    plt.figure(figsize=(10, 5))\n",
    "    sns.countplot(data=df, y=col, order=df[col].value_counts().index, palette=\"magma\")\n",
    "    plt.title(f\"Distribution of {col} (Categorical Variable)\")\n",
    "    plt.show()\n"
   ]
  },
  {
   "cell_type": "code",
   "execution_count": null,
   "id": "4750ab3b",
   "metadata": {},
   "outputs": [],
   "source": [
    "def process_contact_column(data_in_function):\n",
    "    \"\"\"\n",
    "    Processes the 'contact' column:\n",
    "    - Renames it to 'cellular'.\n",
    "    - Encodes 'cellular' as 1 (cellular) and 0 (telephone).\n",
    "    - Creates a 'cellular_missing' column if any missing values exist.\n",
    "    \"\"\"\n",
    "    if \"contact\" in data_in_function.columns:\n",
    "        # Create a missing flag if any values are missing\n",
    "        if data_in_function['contact'].isnull().sum() > 0:\n",
    "            data_in_function['cellular_missing'] = data_in_function['contact'].isnull().astype(int)\n",
    "        \n",
    "        # Renaming the column\n",
    "        data_in_function.rename(columns={\"contact\": \"cellular\"}, inplace=True)\n",
    "        \n",
    "        # Encoding cellular as 1, telephone as 0\n",
    "        data_in_function[\"cellular\"] = data_in_function[\"cellular\"].str.lower().map(\n",
    "            {\"cellular\": 1, \"telephone\": 0}\n",
    "        ).fillna(0).astype(int)\n",
    "    \n",
    "    return data_in_function\n",
    "\n",
    "def handle_missing_values(data_in_function):\n",
    "    \"\"\"\n",
    "    Handles missing values in the DataFrame.\n",
    "    - For binary columns, creates a missing flag if needed.\n",
    "    - For multi-level categorical columns, replaces with \"unknown\".\n",
    "    \"\"\"\n",
    "    missing_cols = data_in_function.columns[data_in_function.isnull().sum() > 0]\n",
    "\n",
    "    for col in missing_cols:\n",
    "        if data_in_function[col].dtype == 'object':\n",
    "            # Binary Columns (Two Unique Values)\n",
    "            if data_in_function[col].nunique() <= 2:\n",
    "                if data_in_function[col].isnull().sum() > 0:\n",
    "                    missing_flag = f\"{col}_missing\"\n",
    "                    data_in_function[missing_flag] = data_in_function[col].isnull().astype(int)\n",
    "            else:\n",
    "                # Multi-Level Categorical Columns\n",
    "                data_in_function[col].fillna(\"unknown\", inplace=True)\n",
    "    \n",
    "    return data_in_function\n",
    "\n",
    "\n",
    "def encode_binary_columns(data_in_function):\n",
    "    \"\"\"\n",
    "    Encodes binary columns as 0/1 (no/yes).\n",
    "    - Applies to binary columns (two unique values).\n",
    "    \"\"\"\n",
    "    for col in data_in_function.select_dtypes(include=['object']).columns:\n",
    "        if data_in_function[col].nunique() <= 2:\n",
    "            data_in_function[col] = data_in_function[col].str.lower().map(\n",
    "                {\"yes\": 1, \"no\": 0, \"true\": 1, \"false\": 0, \"1\": 1, \"0\": 0}\n",
    "            )\n",
    "            data_in_function[col] = data_in_function[col].fillna(0).astype(int)  # Any unknown becomes 0\n",
    "    \n",
    "    return data_in_function\n",
    "\n",
    "\n",
    "def one_hot_encode_multilevel(data_in_function):\n",
    "    \"\"\"\n",
    "    Applies One-Hot Encoding to multi-level categorical columns.\n",
    "    - Retains \"unknown\" and drops the second most frequent category.\n",
    "    \"\"\"\n",
    "    categorical_cols = data_in_function.select_dtypes(include=['object']).columns\n",
    "\n",
    "    for col in categorical_cols:\n",
    "        value_counts = data_in_function[col].value_counts()\n",
    "        values_to_drop = value_counts.index[1] if len(value_counts) > 1 else value_counts.index[0]\n",
    "        \n",
    "        if values_to_drop == \"unknown\":\n",
    "            values_to_drop = value_counts.index[2] if len(value_counts) > 2 else None\n",
    "        \n",
    "        # One-Hot Encoding (0/1)\n",
    "        one_hot = pd.get_dummies(data_in_function[col], prefix=col).astype(int)\n",
    "        data_in_function = pd.concat([data_in_function.drop(columns=[col]), one_hot], axis=1)\n",
    "        \n",
    "        # Drop the chosen column if it exists and is not \"unknown\"\n",
    "        drop_column = f\"{col}_{values_to_drop}\"\n",
    "        if values_to_drop and drop_column in data_in_function.columns and \"unknown\" not in drop_column:\n",
    "            data_in_function.drop(columns=[drop_column], inplace=True)\n",
    "    \n",
    "    return data_in_function\n",
    "\n",
    "\n",
    "def prepare_data(data_in_function):\n",
    "    \"\"\"\n",
    "    Complete data preparation function combining all steps.\n",
    "    - Processes 'contact' column (cellular).\n",
    "    - Handles missing values.\n",
    "    - Encodes binary columns.\n",
    "    - One-Hot Encodes multi-level categorical columns.\n",
    "    \"\"\"\n",
    "    data_in_function = process_contact_column(data_in_function)\n",
    "    data_in_function = handle_missing_values(data_in_function)\n",
    "    data_in_function = encode_binary_columns(data_in_function)\n",
    "    data_in_function = one_hot_encode_multilevel(data_in_function)\n",
    "    return data_in_function\n"
   ]
  },
  {
   "cell_type": "code",
   "execution_count": null,
   "id": "db1826ee",
   "metadata": {},
   "outputs": [],
   "source": [
    "df_prepared = prepare_data(df)\n",
    "df_prepared.head()"
   ]
  },
  {
   "cell_type": "code",
   "execution_count": null,
   "id": "5021728b",
   "metadata": {},
   "outputs": [],
   "source": [
    "df_prepared.isnull().sum()"
   ]
  },
  {
   "cell_type": "code",
   "execution_count": null,
   "id": "76086107",
   "metadata": {},
   "outputs": [],
   "source": [
    "df_prepared.describe()"
   ]
  },
  {
   "cell_type": "code",
   "execution_count": null,
   "id": "97178a4a",
   "metadata": {},
   "outputs": [],
   "source": [
    "# Identifying all numerical variables\n",
    "numerical_columns = df_prepared.select_dtypes(include=['int64', 'float64']).columns\n",
    "\n",
    "# Setting up the subplots (2 columns)\n",
    "num_cols = len(numerical_columns)\n",
    "fig, axes = plt.subplots(nrows=(num_cols + 1) // 2, ncols=2, figsize=(14, 6 * ((num_cols + 1) // 2)))\n",
    "fig.tight_layout(pad=5.0)\n",
    "\n",
    "# Flattening the axes for easy iteration\n",
    "axes = axes.flatten() if num_cols > 1 else [axes]\n",
    "\n",
    "# Plotting each numerical column in a subplot\n",
    "for i, col in enumerate(numerical_columns):\n",
    "    sns.histplot(df_prepared[col], kde=True, color='darkorange', ax=axes[i])\n",
    "    axes[i].set_title(f\"Distribution of {col} (Numerical Variable)\")\n",
    "\n",
    "# Removing any unused subplots\n",
    "for i in range(len(axes)):\n",
    "    if i >= num_cols:\n",
    "        fig.delaxes(axes[i])\n",
    "\n",
    "plt.show()"
   ]
  },
  {
   "cell_type": "code",
   "execution_count": null,
   "id": "b658904a",
   "metadata": {},
   "outputs": [],
   "source": []
  }
 ],
 "metadata": {
  "kernelspec": {
   "display_name": ".venv",
   "language": "python",
   "name": "python3"
  },
  "language_info": {
   "codemirror_mode": {
    "name": "ipython",
    "version": 3
   },
   "file_extension": ".py",
   "mimetype": "text/x-python",
   "name": "python",
   "nbconvert_exporter": "python",
   "pygments_lexer": "ipython3",
   "version": "3.8.1"
  }
 },
 "nbformat": 4,
 "nbformat_minor": 5
}
